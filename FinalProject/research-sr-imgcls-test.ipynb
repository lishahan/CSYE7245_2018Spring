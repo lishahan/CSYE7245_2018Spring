{
 "cells": [
  {
   "cell_type": "markdown",
   "metadata": {},
   "source": [
    "# Exploratory Research of Object Recognition Based on Deep Learning and Single image Super Resolution"
   ]
  },
  {
   "cell_type": "markdown",
   "metadata": {},
   "source": [
    "## License and Source Code References\n",
    "* The code in the document by Erik Linder-Norén and Magnus Erik Hvass Pedersen is licensed under the MIT License https://opensource.org/licenses/MIT\n",
    "* Availability: https://github.com/Hvass-Labs/TensorFlow-Tutorials and https://github.com/eriklindernoren/Keras-GAN"
   ]
  },
  {
   "cell_type": "markdown",
   "metadata": {},
   "source": [
    "## Prerequisite \n",
    "\n",
    "* Python version should be 3.0+. Check your python version. Open an terminal and type in python --version. If you only have 2.7 installed. Install python 3.0+. From https://www.python.org/downloads/mac-osx/. Here is a useful guide: http://docs.python-guide.org/en/latest/starting/install3/osx/\n",
    "* Install the latest Anaconda. Here is a useful guide: https://conda.io/docs/user-guide/install/index.html\n",
    "* To connect to google cloud platform you need to Install mysql. Open an terminal and use pip3 install mysql\n",
    "* Install tensorflow. Open terminal and pip3 install tensorflow\n",
    "* Install prettytensor. Open terminal and pip3 install prettytensor\n",
    "* Install keras. Open terminal and pip3 install keras\n",
    "* Download TensorFlow-Tutorials-master from from https://github.com/Hvass-Labs/TensorFlow-Tutorials. After downloading, uncompress all the files.\n",
    "* Download helper.py from https://github.com/lishahan/CSYE7245_2018Spring/tree/master/FinalProject and put it in TensorFlow-Tutorials-master folder.\n",
    "* Download data from this shared link https://drive.google.com/file/d/1NAJislaACkY0cw8HpINT_b1nc0vroBbj/view?usp=sharing ,uncompress it and put it in TensorFlow-Tutorials-master folder.\n",
    "* Download cifar10 from https://www.cs.toronto.edu/~kriz/cifar.html, uncompress it and put the folder in TensorFlow-Tutorials-master folder.\n",
    "* Create google cloud platform account and link your credit card. \n",
    "* Create instance on google cloud platform.\n",
    "* Create a database named ImageLabel under the instance.\n",
    "* Download google platform sdk and install it here is an useful guide: https://cloud.google.com/sdk/downloads. Initialize and authorize by open terminal and type in gcloud init\n"
   ]
  },
  {
   "cell_type": "code",
   "execution_count": 82,
   "metadata": {},
   "outputs": [],
   "source": [
    "%matplotlib inline\n",
    "import matplotlib.pyplot as plt\n",
    "import tensorflow as tf\n",
    "from sklearn.metrics import confusion_matrix\n",
    "import time\n",
    "from datetime import timedelta\n",
    "import math\n",
    "import os\n",
    "import prettytensor as pt\n",
    "import mysql.connector\n",
    "import numpy as np\n",
    "import pandas as pd\n",
    "from scipy import stats\n",
    "import seaborn as sns\n",
    "import csv\n",
    "import datetime\n",
    "import time\n",
    "import re\n",
    "import statsmodels.api as sm\n",
    "import mysql\n",
    "from prettytable import PrettyTable\n",
    "import itertools\n",
    "from itertools import chain\n",
    "from PIL import Image\n",
    "import imagehash\n",
    "from __future__ import absolute_import\n",
    "from __future__ import division\n",
    "from __future__ import print_function\n",
    "from PIL import Image\n",
    "from keras.datasets import mnist\n",
    "from keras.layers import Input, Dense, Reshape, Flatten, Dropout\n",
    "from keras.layers import BatchNormalization, Activation, ZeroPadding2D\n",
    "from keras.layers.advanced_activations import LeakyReLU\n",
    "from keras.layers.convolutional import UpSampling2D, Conv2D\n",
    "from keras.models import Sequential, Model\n",
    "from keras import optimizers"
   ]
  },
  {
   "cell_type": "markdown",
   "metadata": {},
   "source": [
    "## Part1 Data Processing"
   ]
  },
  {
   "cell_type": "markdown",
   "metadata": {},
   "source": [
    "### 1. Download dataset and store the label and image address information in a table of the data base created on Google Cloud Platform"
   ]
  },
  {
   "cell_type": "code",
   "execution_count": 83,
   "metadata": {},
   "outputs": [],
   "source": [
    "label1= pd.read_csv(\"trainLabels.csv\", sep=',')"
   ]
  },
  {
   "cell_type": "code",
   "execution_count": 84,
   "metadata": {},
   "outputs": [],
   "source": [
    "list_col=['ImageID','LabelName','Type','ImageAddr']"
   ]
  },
  {
   "cell_type": "code",
   "execution_count": 85,
   "metadata": {},
   "outputs": [],
   "source": [
    "df=pd.DataFrame(columns=list_col)"
   ]
  },
  {
   "cell_type": "code",
   "execution_count": 86,
   "metadata": {},
   "outputs": [],
   "source": [
    "df['ImageID']=label1['id']\n",
    "df['LabelName']=label1['label']\n",
    "df['Type']=label1['id']"
   ]
  },
  {
   "cell_type": "markdown",
   "metadata": {},
   "source": [
    "#### Split training data to 1:4"
   ]
  },
  {
   "cell_type": "code",
   "execution_count": 87,
   "metadata": {},
   "outputs": [],
   "source": [
    "df.loc[df['ImageID']<=40000, 'Type'] = 'train'\n",
    "df.loc[df['ImageID']>40000, 'Type'] = 'test'"
   ]
  },
  {
   "cell_type": "code",
   "execution_count": 88,
   "metadata": {},
   "outputs": [],
   "source": [
    "# type in your local path for creating database on the cloud\n",
    "path_local='/Users/lisha/Desktop/'"
   ]
  },
  {
   "cell_type": "code",
   "execution_count": 89,
   "metadata": {},
   "outputs": [],
   "source": [
    "for i in range(len(df)):\n",
    "    df.loc[i,'ImageAddr']=path_local + 'train/'+ str(i+1) +'.png'"
   ]
  },
  {
   "cell_type": "markdown",
   "metadata": {},
   "source": [
    "#### Save the processed dataset to local txt file for creating database"
   ]
  },
  {
   "cell_type": "code",
   "execution_count": 90,
   "metadata": {},
   "outputs": [],
   "source": [
    "df.to_csv(path_local+\"ImageLabel.txt\", sep=',',index=False, )"
   ]
  },
  {
   "cell_type": "markdown",
   "metadata": {},
   "source": [
    "#### Open terminal to start proxy past this command: \"./cloud_sql_proxy -instances=bd7245-200622:us-east1:image-category-184805=tcp:3306 &\""
   ]
  },
  {
   "cell_type": "code",
   "execution_count": 96,
   "metadata": {},
   "outputs": [],
   "source": [
    "cnx = mysql.connector.connect(user='root', password='GoHusky!',\n",
    "                              host='127.0.0.1',\n",
    "                              database='ImageLabel')\n",
    "c=cnx.cursor()"
   ]
  },
  {
   "cell_type": "markdown",
   "metadata": {},
   "source": [
    "#### Create table with training and testing image information"
   ]
  },
  {
   "cell_type": "code",
   "execution_count": 97,
   "metadata": {},
   "outputs": [],
   "source": [
    "sql = \"\"\"CREATE TABLE ImageLabel_local (ImageID int NOT NULL, LabelName  CHAR(20) NOT NULL, Type CHAR(10) NOT NULL, ImageAddr CHAR(255) NOT NULL)\"\"\"\n",
    "c.execute(sql)"
   ]
  },
  {
   "cell_type": "code",
   "execution_count": 100,
   "metadata": {},
   "outputs": [],
   "source": [
    "query = \"LOAD DATA LOCAL INFILE '/Users/lisha/Desktop/ImageLabel.txt' INTO TABLE ImageLabel_local FIELDS TERMINATED BY ','  Lines Terminated BY '\\n' (ImageID,LabelName,Type,ImageAddr)\"\n",
    "c.execute( query )\n",
    "cnx.commit()"
   ]
  },
  {
   "cell_type": "code",
   "execution_count": 105,
   "metadata": {},
   "outputs": [],
   "source": [
    "# A function to print returned data in a better form\n",
    "def print_table(c):\n",
    "    rows=c.fetchall()\n",
    "    pt = PrettyTable([i[0] for i in c.description])\n",
    "    pt.align= \"l\"\n",
    "    for row in rows:\n",
    "        pt.add_row(row)\n",
    "    print (pt)"
   ]
  },
  {
   "cell_type": "code",
   "execution_count": 115,
   "metadata": {},
   "outputs": [
    {
     "name": "stdout",
     "output_type": "stream",
     "text": [
      "+---------+------------+-------+----------------------------------+\n",
      "| ImageID | LabelName  | Type  | ImageAddr                        |\n",
      "+---------+------------+-------+----------------------------------+\n",
      "| 0       | LabelName  | Type  | ImageAddr                        |\n",
      "| 1       | frog       | train | /Users/lisha/Desktop/train/1.png |\n",
      "| 2       | truck      | train | /Users/lisha/Desktop/train/2.png |\n",
      "| 3       | truck      | train | /Users/lisha/Desktop/train/3.png |\n",
      "| 4       | deer       | train | /Users/lisha/Desktop/train/4.png |\n",
      "| 5       | automobile | train | /Users/lisha/Desktop/train/5.png |\n",
      "| 6       | automobile | train | /Users/lisha/Desktop/train/6.png |\n",
      "| 7       | bird       | train | /Users/lisha/Desktop/train/7.png |\n",
      "| 8       | horse      | train | /Users/lisha/Desktop/train/8.png |\n",
      "| 9       | ship       | train | /Users/lisha/Desktop/train/9.png |\n",
      "+---------+------------+-------+----------------------------------+\n"
     ]
    }
   ],
   "source": [
    "# Database I created\n",
    "c.execute(\"\"\"SELECT * FROM ImageLabel_local LIMIT 10\"\"\")\n",
    "print_table(c)"
   ]
  },
  {
   "cell_type": "markdown",
   "metadata": {},
   "source": [
    "### 2. Process data to suitable set for tensorflow"
   ]
  },
  {
   "cell_type": "code",
   "execution_count": 116,
   "metadata": {},
   "outputs": [],
   "source": [
    "# This function is used to de-tuple list of tuples\n",
    "def tuple_list(tuplelist):\n",
    "    return list(itertools.chain(*tuplelist))"
   ]
  },
  {
   "cell_type": "markdown",
   "metadata": {},
   "source": [
    "#### Get images and label lists with label name cat&dog"
   ]
  },
  {
   "cell_type": "code",
   "execution_count": 123,
   "metadata": {},
   "outputs": [],
   "source": [
    "c=cnx.cursor()\n",
    "c.execute(\"\"\"SELECT LabelName FROM ImageLabel_local WHERE LabelName='cat' OR LabelName='dog'\"\"\")\n",
    "list_label_cat_dog=tuple_list(c.fetchall())"
   ]
  },
  {
   "cell_type": "code",
   "execution_count": 129,
   "metadata": {},
   "outputs": [],
   "source": [
    "c=cnx.cursor()\n",
    "c.execute(\"\"\"SELECT ImageAddr FROM ImageLabel_local WHERE LabelName='cat' OR LabelName='dog'\"\"\")\n",
    "list_file_cat_dog=tuple_list(c.fetchall())"
   ]
  },
  {
   "cell_type": "markdown",
   "metadata": {},
   "source": [
    "#### Get cifar2 from training images downloaded from https://www.cs.toronto.edu/~kriz/cifar.html"
   ]
  },
  {
   "cell_type": "code",
   "execution_count": 132,
   "metadata": {},
   "outputs": [],
   "source": [
    "import cifar10\n",
    "import helper\n",
    "from dataset import one_hot_encoded"
   ]
  },
  {
   "cell_type": "markdown",
   "metadata": {},
   "source": [
    "#### Set image size, chanels, cropped image size, and classes of images"
   ]
  },
  {
   "cell_type": "code",
   "execution_count": 133,
   "metadata": {},
   "outputs": [],
   "source": [
    "img_size=32\n",
    "num_channels=3\n",
    "num_classes=10\n",
    "img_size_cropped=32"
   ]
  },
  {
   "cell_type": "code",
   "execution_count": 134,
   "metadata": {},
   "outputs": [
    {
     "data": {
      "text/plain": [
       "[3, 3, 3, 3, 5]"
      ]
     },
     "execution_count": 134,
     "metadata": {},
     "output_type": "execute_result"
    }
   ],
   "source": [
    "list_label_cat_dog[:5]"
   ]
  },
  {
   "cell_type": "markdown",
   "metadata": {},
   "source": [
    "#### Change names of class to numbers 0 to 9, here cat is 3 and dog is 5"
   ]
  },
  {
   "cell_type": "code",
   "execution_count": 140,
   "metadata": {},
   "outputs": [],
   "source": [
    "for i in range(len(list_label_cat_dog)):\n",
    "    if list_label_cat_dog[i]=='cat':\n",
    "        list_label_cat_dog[i]=3\n",
    "    else:\n",
    "        list_label_cat_dog[i]=5"
   ]
  },
  {
   "cell_type": "code",
   "execution_count": 145,
   "metadata": {},
   "outputs": [],
   "source": [
    "cls2=np.array(list_label_cat_dog)"
   ]
  },
  {
   "cell_type": "code",
   "execution_count": 146,
   "metadata": {},
   "outputs": [
    {
     "data": {
      "text/plain": [
       "['/Users/lisha/Desktop/train/10.png',\n",
       " '/Users/lisha/Desktop/train/18.png',\n",
       " '/Users/lisha/Desktop/train/22.png',\n",
       " '/Users/lisha/Desktop/train/27.png',\n",
       " '/Users/lisha/Desktop/train/28.png']"
      ]
     },
     "execution_count": 146,
     "metadata": {},
     "output_type": "execute_result"
    }
   ],
   "source": [
    "list_file_cat_dog[:5]"
   ]
  },
  {
   "cell_type": "markdown",
   "metadata": {},
   "source": [
    "#### Get images and labels for the training set."
   ]
  },
  {
   "cell_type": "code",
   "execution_count": 153,
   "metadata": {},
   "outputs": [],
   "source": [
    "list_raw=[]\n",
    "for image in list_file_cat_dog:\n",
    "    img = Image.open(image)\n",
    "    data = list(img.getdata())\n",
    "    list_raw.append(tuple_list(data))"
   ]
  },
  {
   "cell_type": "code",
   "execution_count": 157,
   "metadata": {},
   "outputs": [],
   "source": [
    "raw_images=np.array(list_raw)\n",
    "images2 = cifar10._convert_images(raw_images)\n",
    "images_train=images2"
   ]
  },
  {
   "cell_type": "code",
   "execution_count": 162,
   "metadata": {},
   "outputs": [],
   "source": [
    "labels_train=one_hot_encoded(class_numbers=cls2, num_classes=num_classes)"
   ]
  },
  {
   "cell_type": "markdown",
   "metadata": {},
   "source": [
    "#### Get test data set from cifar10"
   ]
  },
  {
   "cell_type": "code",
   "execution_count": 167,
   "metadata": {},
   "outputs": [
    {
     "name": "stdout",
     "output_type": "stream",
     "text": [
      "Loading data: data/CIFAR-10/cifar-10-batches-py/test_batch\n"
     ]
    }
   ],
   "source": [
    "images_test, cls_test, labels_test = cifar10.load_test_data()"
   ]
  },
  {
   "cell_type": "code",
   "execution_count": 173,
   "metadata": {},
   "outputs": [],
   "source": [
    "t=pd.DataFrame({'img':l, 'lab':l1, 'cls': l2})"
   ]
  },
  {
   "cell_type": "code",
   "execution_count": 177,
   "metadata": {},
   "outputs": [],
   "source": [
    "t1=t.loc[t['cls'] == 3]\n",
    "t2=t.loc[t['cls'] == 5]\n",
    "frame=pd.concat([t1,t2])"
   ]
  },
  {
   "cell_type": "code",
   "execution_count": 184,
   "metadata": {},
   "outputs": [],
   "source": [
    "img_test=np.array(list(frame['img']))\n",
    "lab_test=np.array(list(frame['lab']))\n",
    "cl_test=np.array(list(frame['cls']))"
   ]
  },
  {
   "cell_type": "code",
   "execution_count": 185,
   "metadata": {},
   "outputs": [],
   "source": [
    "def change_contrast(img, level):\n",
    "    img=Image.fromarray(img, 'RGB')\n",
    "    factor = (259 * (level + 255)) / (255 * (259 - level))\n",
    "    def contrast(c):\n",
    "        return 128 + factor * (c - 128)\n",
    "    return img.point(contrast)"
   ]
  },
  {
   "cell_type": "code",
   "execution_count": 193,
   "metadata": {},
   "outputs": [],
   "source": [
    "list_distorted=[]\n",
    "for img in img_test:\n",
    "    list_distorted.append(change_contrast(img,300))"
   ]
  },
  {
   "cell_type": "code",
   "execution_count": 200,
   "metadata": {},
   "outputs": [],
   "source": [
    "list_dis=[]\n",
    "for i in range(len(list_distorted)):\n",
    "    im = list_distorted[i]\n",
    "    pixels = tuple_list(list(im.getdata()))\n",
    "    list_dis.append(pixels)\n",
    "raw_images_test_distorted=np.array(list_dis)\n",
    "images_test_distorted=cifar10._convert_images(raw_images_test_distorted)"
   ]
  },
  {
   "cell_type": "markdown",
   "metadata": {},
   "source": [
    "## Part2 Exploring possibility of using single image super resolution in image classification"
   ]
  },
  {
   "cell_type": "markdown",
   "metadata": {},
   "source": [
    "### 1. Build a GAN model "
   ]
  },
  {
   "cell_type": "code",
   "execution_count": 203,
   "metadata": {},
   "outputs": [],
   "source": [
    "#This is a function to save the outcome of the model\n",
    "#Create folder named gan on your loacal path \n",
    "def save_imgs(epoch):\n",
    "    r, c = 5, 5\n",
    "    noise = np.random.normal(0, 1, (r * c, 100))\n",
    "    gen_imgs = generator.predict(noise)\n",
    "\n",
    "    # Rescale images 0 - 1\n",
    "    gen_imgs = 0.5 * gen_imgs + 0.5\n",
    "\n",
    "    fig, axs = plt.subplots(r, c)\n",
    "    cnt = 0\n",
    "    for i in range(r):\n",
    "        for j in range(c):\n",
    "            axs[i,j].imshow(gen_imgs[cnt, :,:,0], cmap='gray')\n",
    "            axs[i,j].axis('off')\n",
    "            cnt += 1\n",
    "    fig.savefig(path_local+\"gan/test_%d.png\" % epoch)\n",
    "    plt.close()"
   ]
  },
  {
   "cell_type": "markdown",
   "metadata": {},
   "source": [
    "#### Build generator"
   ]
  },
  {
   "cell_type": "code",
   "execution_count": 204,
   "metadata": {},
   "outputs": [],
   "source": [
    "img_row=28\n",
    "img_col=28\n",
    "channel=1\n",
    "img_shape=(img_row, img_col, channel)"
   ]
  },
  {
   "cell_type": "code",
   "execution_count": 205,
   "metadata": {},
   "outputs": [],
   "source": [
    "adam = optimizers.Adam(0.0002, 0.5)\n",
    "sgd = optimizers.SGD(lr=0.01, decay=1e-6, momentum=0.9, nesterov=True)"
   ]
  },
  {
   "cell_type": "code",
   "execution_count": 207,
   "metadata": {},
   "outputs": [],
   "source": [
    "model = Sequential()\n",
    "model.add(Flatten(input_shape=img_shape))\n",
    "model.add(Dense(512))\n",
    "model.add(LeakyReLU(alpha=0.2))\n",
    "model.add(Dense(256))\n",
    "model.add(LeakyReLU(alpha=0.2))\n",
    "model.add(Dense(1, activation='sigmoid'))\n",
    "img = Input(shape=img_shape)\n",
    "validity = model(img)\n",
    "discriminator = Model(img, validity)"
   ]
  },
  {
   "cell_type": "code",
   "execution_count": 208,
   "metadata": {},
   "outputs": [
    {
     "name": "stdout",
     "output_type": "stream",
     "text": [
      "_________________________________________________________________\n",
      "Layer (type)                 Output Shape              Param #   \n",
      "=================================================================\n",
      "dense_4 (Dense)              (None, 256)               25856     \n",
      "_________________________________________________________________\n",
      "leaky_re_lu_3 (LeakyReLU)    (None, 256)               0         \n",
      "_________________________________________________________________\n",
      "batch_normalization_1 (Batch (None, 256)               1024      \n",
      "_________________________________________________________________\n",
      "dense_5 (Dense)              (None, 512)               131584    \n",
      "_________________________________________________________________\n",
      "leaky_re_lu_4 (LeakyReLU)    (None, 512)               0         \n",
      "_________________________________________________________________\n",
      "batch_normalization_2 (Batch (None, 512)               2048      \n",
      "_________________________________________________________________\n",
      "dense_6 (Dense)              (None, 1024)              525312    \n",
      "_________________________________________________________________\n",
      "leaky_re_lu_5 (LeakyReLU)    (None, 1024)              0         \n",
      "_________________________________________________________________\n",
      "batch_normalization_3 (Batch (None, 1024)              4096      \n",
      "_________________________________________________________________\n",
      "dense_7 (Dense)              (None, 784)               803600    \n",
      "_________________________________________________________________\n",
      "reshape_1 (Reshape)          (None, 28, 28, 1)         0         \n",
      "=================================================================\n",
      "Total params: 1,493,520\n",
      "Trainable params: 1,489,936\n",
      "Non-trainable params: 3,584\n",
      "_________________________________________________________________\n"
     ]
    }
   ],
   "source": [
    "model.summary()"
   ]
  },
  {
   "cell_type": "markdown",
   "metadata": {},
   "source": [
    "#### Build descriminator"
   ]
  },
  {
   "cell_type": "code",
   "execution_count": 215,
   "metadata": {},
   "outputs": [],
   "source": [
    "discriminator.compile(loss='binary_crossentropy', optimizer=adam, metrics=['accuracy'])"
   ]
  },
  {
   "cell_type": "code",
   "execution_count": 222,
   "metadata": {},
   "outputs": [],
   "source": [
    "noise_shape = (100,)\n",
    "model = Sequential()\n",
    "model.add(Dense(256, input_shape=noise_shape))\n",
    "model.add(LeakyReLU(alpha=0.2))\n",
    "model.add(BatchNormalization(momentum=0.8))\n",
    "model.add(Dense(512))\n",
    "model.add(LeakyReLU(alpha=0.2))\n",
    "model.add(BatchNormalization(momentum=0.8))\n",
    "model.add(Dense(1024))\n",
    "model.add(LeakyReLU(alpha=0.2))\n",
    "model.add(BatchNormalization(momentum=0.8))\n",
    "model.add(Dense(np.prod(img_shape), activation='tanh'))\n",
    "model.add(Reshape(img_shape))\n",
    "noise = Input(shape=noise_shape)\n",
    "img = model(noise)\n",
    "generator=Model(noise, img)"
   ]
  },
  {
   "cell_type": "code",
   "execution_count": 224,
   "metadata": {},
   "outputs": [
    {
     "name": "stdout",
     "output_type": "stream",
     "text": [
      "_________________________________________________________________\n",
      "Layer (type)                 Output Shape              Param #   \n",
      "=================================================================\n",
      "dense_4 (Dense)              (None, 256)               25856     \n",
      "_________________________________________________________________\n",
      "leaky_re_lu_3 (LeakyReLU)    (None, 256)               0         \n",
      "_________________________________________________________________\n",
      "batch_normalization_1 (Batch (None, 256)               1024      \n",
      "_________________________________________________________________\n",
      "dense_5 (Dense)              (None, 512)               131584    \n",
      "_________________________________________________________________\n",
      "leaky_re_lu_4 (LeakyReLU)    (None, 512)               0         \n",
      "_________________________________________________________________\n",
      "batch_normalization_2 (Batch (None, 512)               2048      \n",
      "_________________________________________________________________\n",
      "dense_6 (Dense)              (None, 1024)              525312    \n",
      "_________________________________________________________________\n",
      "leaky_re_lu_5 (LeakyReLU)    (None, 1024)              0         \n",
      "_________________________________________________________________\n",
      "batch_normalization_3 (Batch (None, 1024)              4096      \n",
      "_________________________________________________________________\n",
      "dense_7 (Dense)              (None, 784)               803600    \n",
      "_________________________________________________________________\n",
      "reshape_1 (Reshape)          (None, 28, 28, 1)         0         \n",
      "=================================================================\n",
      "Total params: 1,493,520\n",
      "Trainable params: 1,489,936\n",
      "Non-trainable params: 3,584\n",
      "_________________________________________________________________\n"
     ]
    }
   ],
   "source": [
    "model.summary()"
   ]
  },
  {
   "cell_type": "code",
   "execution_count": 225,
   "metadata": {},
   "outputs": [],
   "source": [
    "generator.compile(loss='binary_crossentropy', optimizer=adam)"
   ]
  },
  {
   "cell_type": "code",
   "execution_count": 226,
   "metadata": {},
   "outputs": [],
   "source": [
    "z = Input(shape=(100,))\n",
    "img = generator(z)"
   ]
  },
  {
   "cell_type": "code",
   "execution_count": 231,
   "metadata": {},
   "outputs": [],
   "source": [
    "discriminator.trainable = False\n",
    "valid = discriminator(img)"
   ]
  },
  {
   "cell_type": "code",
   "execution_count": 235,
   "metadata": {},
   "outputs": [],
   "source": [
    "combined = Model(z, valid)"
   ]
  },
  {
   "cell_type": "code",
   "execution_count": 240,
   "metadata": {},
   "outputs": [],
   "source": [
    "combined.compile(loss='binary_crossentropy', optimizer=adam)"
   ]
  },
  {
   "cell_type": "code",
   "execution_count": 250,
   "metadata": {},
   "outputs": [],
   "source": [
    "batch_size=128\n",
    "sample_interval=200\n",
    "epochs=20000"
   ]
  },
  {
   "cell_type": "code",
   "execution_count": 251,
   "metadata": {},
   "outputs": [],
   "source": [
    "(X_train, _), (_, _) = mnist.load_data()"
   ]
  },
  {
   "cell_type": "code",
   "execution_count": 252,
   "metadata": {},
   "outputs": [],
   "source": [
    "X_train = (X_train.astype(np.float32) - 127.5) / 127.5"
   ]
  },
  {
   "cell_type": "code",
   "execution_count": 253,
   "metadata": {},
   "outputs": [],
   "source": [
    "X_train = np.expand_dims(X_train, axis=3)"
   ]
  },
  {
   "cell_type": "code",
   "execution_count": 254,
   "metadata": {},
   "outputs": [],
   "source": [
    "half_batch = int(batch_size / 2)"
   ]
  },
  {
   "cell_type": "code",
   "execution_count": 255,
   "metadata": {},
   "outputs": [
    {
     "name": "stderr",
     "output_type": "stream",
     "text": [
      "/anaconda3/lib/python3.6/site-packages/keras/engine/training.py:973: UserWarning: Discrepancy between trainable weights and collected trainable weights, did you set `model.trainable` without calling `model.compile` after ?\n",
      "  'Discrepancy between trainable weights and collected trainable'\n"
     ]
    },
    {
     "name": "stdout",
     "output_type": "stream",
     "text": [
      "0 [D loss: 0.663746, acc.: 57.81%] [G loss: 0.853895]\n",
      "100 [D loss: 0.681108, acc.: 55.47%] [G loss: 0.812665]\n",
      "200 [D loss: 0.682910, acc.: 54.69%] [G loss: 0.796585]\n",
      "300 [D loss: 0.693084, acc.: 57.81%] [G loss: 0.792890]\n",
      "400 [D loss: 0.686184, acc.: 61.72%] [G loss: 0.814104]\n",
      "500 [D loss: 0.701206, acc.: 53.12%] [G loss: 0.801902]\n",
      "600 [D loss: 0.677471, acc.: 54.69%] [G loss: 0.827875]\n",
      "700 [D loss: 0.655582, acc.: 64.06%] [G loss: 0.827676]\n",
      "800 [D loss: 0.679052, acc.: 55.47%] [G loss: 0.855005]\n",
      "900 [D loss: 0.654717, acc.: 65.62%] [G loss: 0.831815]\n",
      "1000 [D loss: 0.688097, acc.: 52.34%] [G loss: 0.822470]\n",
      "1100 [D loss: 0.669232, acc.: 56.25%] [G loss: 0.796239]\n",
      "1200 [D loss: 0.692695, acc.: 55.47%] [G loss: 0.832457]\n",
      "1300 [D loss: 0.651168, acc.: 63.28%] [G loss: 0.859824]\n",
      "1400 [D loss: 0.687863, acc.: 52.34%] [G loss: 0.824491]\n",
      "1500 [D loss: 0.708880, acc.: 53.12%] [G loss: 0.834695]\n",
      "1600 [D loss: 0.675896, acc.: 60.16%] [G loss: 0.863795]\n",
      "1700 [D loss: 0.684242, acc.: 60.94%] [G loss: 0.815931]\n",
      "1800 [D loss: 0.693016, acc.: 55.47%] [G loss: 0.787261]\n",
      "1900 [D loss: 0.663446, acc.: 60.94%] [G loss: 0.830495]\n",
      "2000 [D loss: 0.686305, acc.: 54.69%] [G loss: 0.828595]\n",
      "2100 [D loss: 0.679025, acc.: 56.25%] [G loss: 0.821563]\n",
      "2200 [D loss: 0.686546, acc.: 46.88%] [G loss: 0.829799]\n",
      "2300 [D loss: 0.683771, acc.: 57.03%] [G loss: 0.809619]\n",
      "2400 [D loss: 0.699003, acc.: 52.34%] [G loss: 0.856960]\n",
      "2500 [D loss: 0.676498, acc.: 58.59%] [G loss: 0.820755]\n",
      "2600 [D loss: 0.667376, acc.: 63.28%] [G loss: 0.872028]\n",
      "2700 [D loss: 0.686882, acc.: 57.81%] [G loss: 0.816835]\n",
      "2800 [D loss: 0.671694, acc.: 61.72%] [G loss: 0.868532]\n",
      "2900 [D loss: 0.671307, acc.: 59.38%] [G loss: 0.826646]\n",
      "3000 [D loss: 0.726760, acc.: 46.88%] [G loss: 0.808713]\n",
      "3100 [D loss: 0.667181, acc.: 58.59%] [G loss: 0.830931]\n",
      "3200 [D loss: 0.670199, acc.: 56.25%] [G loss: 0.808099]\n",
      "3300 [D loss: 0.679375, acc.: 55.47%] [G loss: 0.836952]\n",
      "3400 [D loss: 0.684658, acc.: 53.12%] [G loss: 0.867377]\n",
      "3500 [D loss: 0.676772, acc.: 58.59%] [G loss: 0.829309]\n",
      "3600 [D loss: 0.735103, acc.: 46.09%] [G loss: 0.825908]\n",
      "3700 [D loss: 0.697442, acc.: 50.00%] [G loss: 0.859766]\n",
      "3800 [D loss: 0.684936, acc.: 56.25%] [G loss: 0.820212]\n",
      "3900 [D loss: 0.656478, acc.: 61.72%] [G loss: 0.843128]\n",
      "4000 [D loss: 0.694636, acc.: 52.34%] [G loss: 0.834613]\n",
      "4100 [D loss: 0.660401, acc.: 58.59%] [G loss: 0.819308]\n",
      "4200 [D loss: 0.676842, acc.: 59.38%] [G loss: 0.813878]\n",
      "4300 [D loss: 0.680307, acc.: 53.91%] [G loss: 0.850230]\n",
      "4400 [D loss: 0.704490, acc.: 53.12%] [G loss: 0.832595]\n",
      "4500 [D loss: 0.724030, acc.: 49.22%] [G loss: 0.805114]\n",
      "4600 [D loss: 0.690828, acc.: 58.59%] [G loss: 0.816735]\n",
      "4700 [D loss: 0.691809, acc.: 53.12%] [G loss: 0.820238]\n",
      "4800 [D loss: 0.691949, acc.: 53.91%] [G loss: 0.784859]\n",
      "4900 [D loss: 0.702839, acc.: 52.34%] [G loss: 0.808112]\n",
      "5000 [D loss: 0.693119, acc.: 53.12%] [G loss: 0.831053]\n",
      "5100 [D loss: 0.696241, acc.: 48.44%] [G loss: 0.810231]\n",
      "5200 [D loss: 0.713138, acc.: 51.56%] [G loss: 0.836844]\n",
      "5300 [D loss: 0.678013, acc.: 54.69%] [G loss: 0.795967]\n",
      "5400 [D loss: 0.680831, acc.: 64.84%] [G loss: 0.813690]\n",
      "5500 [D loss: 0.669441, acc.: 57.81%] [G loss: 0.832667]\n",
      "5600 [D loss: 0.685861, acc.: 53.12%] [G loss: 0.824617]\n",
      "5700 [D loss: 0.690336, acc.: 55.47%] [G loss: 0.825691]\n",
      "5800 [D loss: 0.693390, acc.: 50.78%] [G loss: 0.828804]\n",
      "5900 [D loss: 0.709898, acc.: 53.91%] [G loss: 0.784755]\n",
      "6000 [D loss: 0.658700, acc.: 58.59%] [G loss: 0.814398]\n",
      "6100 [D loss: 0.695348, acc.: 53.91%] [G loss: 0.802375]\n",
      "6200 [D loss: 0.694108, acc.: 56.25%] [G loss: 0.788594]\n",
      "6300 [D loss: 0.702942, acc.: 46.09%] [G loss: 0.816377]\n",
      "6400 [D loss: 0.704450, acc.: 51.56%] [G loss: 0.809246]\n",
      "6500 [D loss: 0.631644, acc.: 67.97%] [G loss: 0.832169]\n",
      "6600 [D loss: 0.673546, acc.: 57.03%] [G loss: 0.799473]\n",
      "6700 [D loss: 0.674122, acc.: 56.25%] [G loss: 0.838592]\n",
      "6800 [D loss: 0.719272, acc.: 42.97%] [G loss: 0.784970]\n",
      "6900 [D loss: 0.701897, acc.: 53.91%] [G loss: 0.841708]\n",
      "7000 [D loss: 0.671619, acc.: 55.47%] [G loss: 0.850453]\n",
      "7100 [D loss: 0.718877, acc.: 50.00%] [G loss: 0.824785]\n",
      "7200 [D loss: 0.718531, acc.: 49.22%] [G loss: 0.809328]\n",
      "7300 [D loss: 0.680945, acc.: 56.25%] [G loss: 0.810006]\n",
      "7400 [D loss: 0.724867, acc.: 53.12%] [G loss: 0.804755]\n",
      "7500 [D loss: 0.685184, acc.: 50.78%] [G loss: 0.813991]\n",
      "7600 [D loss: 0.677919, acc.: 54.69%] [G loss: 0.842062]\n",
      "7700 [D loss: 0.720321, acc.: 48.44%] [G loss: 0.799626]\n",
      "7800 [D loss: 0.679144, acc.: 53.12%] [G loss: 0.829535]\n",
      "7900 [D loss: 0.712186, acc.: 46.88%] [G loss: 0.831741]\n",
      "8000 [D loss: 0.682273, acc.: 57.03%] [G loss: 0.828111]\n",
      "8100 [D loss: 0.670498, acc.: 57.81%] [G loss: 0.794279]\n",
      "8200 [D loss: 0.699951, acc.: 49.22%] [G loss: 0.787494]\n",
      "8300 [D loss: 0.658100, acc.: 60.94%] [G loss: 0.814382]\n",
      "8400 [D loss: 0.694369, acc.: 50.00%] [G loss: 0.805009]\n",
      "8500 [D loss: 0.675699, acc.: 59.38%] [G loss: 0.825801]\n",
      "8600 [D loss: 0.683636, acc.: 53.91%] [G loss: 0.811143]\n",
      "8700 [D loss: 0.659513, acc.: 60.94%] [G loss: 0.864930]\n",
      "8800 [D loss: 0.666496, acc.: 60.16%] [G loss: 0.810584]\n",
      "8900 [D loss: 0.687593, acc.: 53.91%] [G loss: 0.822706]\n",
      "9000 [D loss: 0.706649, acc.: 50.78%] [G loss: 0.825784]\n",
      "9100 [D loss: 0.682158, acc.: 54.69%] [G loss: 0.810386]\n",
      "9200 [D loss: 0.692520, acc.: 53.12%] [G loss: 0.813109]\n",
      "9300 [D loss: 0.697279, acc.: 51.56%] [G loss: 0.789295]\n",
      "9400 [D loss: 0.682137, acc.: 51.56%] [G loss: 0.802448]\n",
      "9500 [D loss: 0.676272, acc.: 57.03%] [G loss: 0.791646]\n",
      "9600 [D loss: 0.710312, acc.: 57.03%] [G loss: 0.798145]\n",
      "9700 [D loss: 0.678467, acc.: 56.25%] [G loss: 0.829977]\n",
      "9800 [D loss: 0.681641, acc.: 60.94%] [G loss: 0.787486]\n",
      "9900 [D loss: 0.701006, acc.: 50.00%] [G loss: 0.788088]\n",
      "10000 [D loss: 0.686501, acc.: 53.12%] [G loss: 0.849273]\n",
      "10100 [D loss: 0.731614, acc.: 46.09%] [G loss: 0.818662]\n",
      "10200 [D loss: 0.703924, acc.: 50.78%] [G loss: 0.832097]\n",
      "10300 [D loss: 0.683686, acc.: 58.59%] [G loss: 0.795337]\n",
      "10400 [D loss: 0.661947, acc.: 58.59%] [G loss: 0.863495]\n",
      "10500 [D loss: 0.689968, acc.: 52.34%] [G loss: 0.799981]\n",
      "10600 [D loss: 0.671527, acc.: 53.12%] [G loss: 0.820268]\n",
      "10700 [D loss: 0.705374, acc.: 47.66%] [G loss: 0.831546]\n",
      "10800 [D loss: 0.669566, acc.: 57.81%] [G loss: 0.828286]\n",
      "10900 [D loss: 0.656933, acc.: 60.16%] [G loss: 0.834516]\n",
      "11000 [D loss: 0.689059, acc.: 53.12%] [G loss: 0.814270]\n",
      "11100 [D loss: 0.700749, acc.: 53.91%] [G loss: 0.863225]\n",
      "11200 [D loss: 0.711248, acc.: 47.66%] [G loss: 0.805309]\n",
      "11300 [D loss: 0.724565, acc.: 50.00%] [G loss: 0.819496]\n",
      "11400 [D loss: 0.704419, acc.: 57.03%] [G loss: 0.794084]\n",
      "11500 [D loss: 0.666272, acc.: 57.81%] [G loss: 0.869112]\n",
      "11600 [D loss: 0.690160, acc.: 49.22%] [G loss: 0.816131]\n",
      "11700 [D loss: 0.653354, acc.: 63.28%] [G loss: 0.741276]\n",
      "11800 [D loss: 0.689001, acc.: 48.44%] [G loss: 0.810857]\n",
      "11900 [D loss: 0.698115, acc.: 54.69%] [G loss: 0.808644]\n",
      "12000 [D loss: 0.683402, acc.: 60.16%] [G loss: 0.812218]\n",
      "12100 [D loss: 0.674404, acc.: 58.59%] [G loss: 0.831864]\n",
      "12200 [D loss: 0.686222, acc.: 54.69%] [G loss: 0.800108]\n",
      "12300 [D loss: 0.690810, acc.: 56.25%] [G loss: 0.813253]\n",
      "12400 [D loss: 0.683622, acc.: 60.16%] [G loss: 0.798417]\n",
      "12500 [D loss: 0.692132, acc.: 51.56%] [G loss: 0.829759]\n",
      "12600 [D loss: 0.678984, acc.: 53.91%] [G loss: 0.802787]\n",
      "12700 [D loss: 0.658855, acc.: 58.59%] [G loss: 0.797954]\n",
      "12800 [D loss: 0.686857, acc.: 61.72%] [G loss: 0.824863]\n",
      "12900 [D loss: 0.662712, acc.: 62.50%] [G loss: 0.821871]\n",
      "13000 [D loss: 0.664227, acc.: 56.25%] [G loss: 0.822806]\n",
      "13100 [D loss: 0.659924, acc.: 59.38%] [G loss: 0.807513]\n",
      "13200 [D loss: 0.685790, acc.: 56.25%] [G loss: 0.817718]\n",
      "13300 [D loss: 0.646855, acc.: 64.84%] [G loss: 0.836939]\n",
      "13400 [D loss: 0.696676, acc.: 57.03%] [G loss: 0.778739]\n",
      "13500 [D loss: 0.701511, acc.: 55.47%] [G loss: 0.821386]\n",
      "13600 [D loss: 0.665868, acc.: 57.03%] [G loss: 0.855001]\n",
      "13700 [D loss: 0.650388, acc.: 62.50%] [G loss: 0.802445]\n",
      "13800 [D loss: 0.690492, acc.: 57.03%] [G loss: 0.776284]\n",
      "13900 [D loss: 0.676101, acc.: 53.91%] [G loss: 0.822589]\n",
      "14000 [D loss: 0.720398, acc.: 42.97%] [G loss: 0.803176]\n",
      "14100 [D loss: 0.702470, acc.: 47.66%] [G loss: 0.826252]\n",
      "14200 [D loss: 0.673299, acc.: 59.38%] [G loss: 0.835722]\n",
      "14300 [D loss: 0.688519, acc.: 52.34%] [G loss: 0.820355]\n"
     ]
    },
    {
     "name": "stdout",
     "output_type": "stream",
     "text": [
      "14400 [D loss: 0.664124, acc.: 59.38%] [G loss: 0.852268]\n",
      "14500 [D loss: 0.693459, acc.: 51.56%] [G loss: 0.782643]\n",
      "14600 [D loss: 0.672899, acc.: 57.03%] [G loss: 0.827770]\n",
      "14700 [D loss: 0.704666, acc.: 50.00%] [G loss: 0.812799]\n",
      "14800 [D loss: 0.710695, acc.: 50.78%] [G loss: 0.832777]\n",
      "14900 [D loss: 0.690029, acc.: 56.25%] [G loss: 0.838905]\n",
      "15000 [D loss: 0.710372, acc.: 43.75%] [G loss: 0.793908]\n",
      "15100 [D loss: 0.657281, acc.: 63.28%] [G loss: 0.804505]\n",
      "15200 [D loss: 0.683959, acc.: 53.91%] [G loss: 0.835965]\n",
      "15300 [D loss: 0.651350, acc.: 65.62%] [G loss: 0.812140]\n",
      "15400 [D loss: 0.684502, acc.: 57.03%] [G loss: 0.816391]\n",
      "15500 [D loss: 0.657761, acc.: 60.94%] [G loss: 0.798077]\n",
      "15600 [D loss: 0.669524, acc.: 58.59%] [G loss: 0.842110]\n",
      "15700 [D loss: 0.693964, acc.: 57.03%] [G loss: 0.796573]\n",
      "15800 [D loss: 0.708712, acc.: 51.56%] [G loss: 0.814982]\n",
      "15900 [D loss: 0.662717, acc.: 60.16%] [G loss: 0.762536]\n",
      "16000 [D loss: 0.685597, acc.: 53.91%] [G loss: 0.794018]\n",
      "16100 [D loss: 0.716068, acc.: 47.66%] [G loss: 0.806356]\n",
      "16200 [D loss: 0.676843, acc.: 53.91%] [G loss: 0.785954]\n",
      "16300 [D loss: 0.714856, acc.: 50.00%] [G loss: 0.824292]\n",
      "16400 [D loss: 0.677743, acc.: 59.38%] [G loss: 0.835998]\n",
      "16500 [D loss: 0.677371, acc.: 58.59%] [G loss: 0.822487]\n",
      "16600 [D loss: 0.690616, acc.: 46.88%] [G loss: 0.873680]\n",
      "16700 [D loss: 0.704955, acc.: 51.56%] [G loss: 0.858416]\n",
      "16800 [D loss: 0.671438, acc.: 55.47%] [G loss: 0.804720]\n",
      "16900 [D loss: 0.701547, acc.: 53.91%] [G loss: 0.795294]\n",
      "17000 [D loss: 0.680963, acc.: 53.91%] [G loss: 0.817504]\n",
      "17100 [D loss: 0.658105, acc.: 62.50%] [G loss: 0.795677]\n",
      "17200 [D loss: 0.693117, acc.: 56.25%] [G loss: 0.772002]\n",
      "17300 [D loss: 0.692000, acc.: 55.47%] [G loss: 0.852154]\n",
      "17400 [D loss: 0.684065, acc.: 53.12%] [G loss: 0.815189]\n",
      "17500 [D loss: 0.681529, acc.: 59.38%] [G loss: 0.811459]\n",
      "17600 [D loss: 0.681226, acc.: 59.38%] [G loss: 0.818231]\n",
      "17700 [D loss: 0.701173, acc.: 53.12%] [G loss: 0.817775]\n",
      "17800 [D loss: 0.684763, acc.: 53.12%] [G loss: 0.822992]\n",
      "17900 [D loss: 0.721482, acc.: 51.56%] [G loss: 0.830568]\n",
      "18000 [D loss: 0.691170, acc.: 52.34%] [G loss: 0.796466]\n",
      "18100 [D loss: 0.647696, acc.: 57.03%] [G loss: 0.825309]\n",
      "18200 [D loss: 0.681078, acc.: 57.81%] [G loss: 0.801668]\n",
      "18300 [D loss: 0.662682, acc.: 57.03%] [G loss: 0.824516]\n",
      "18400 [D loss: 0.665312, acc.: 60.94%] [G loss: 0.841483]\n",
      "18500 [D loss: 0.671787, acc.: 57.03%] [G loss: 0.805321]\n",
      "18600 [D loss: 0.672347, acc.: 56.25%] [G loss: 0.804630]\n",
      "18700 [D loss: 0.664036, acc.: 57.81%] [G loss: 0.813893]\n",
      "18800 [D loss: 0.658350, acc.: 57.81%] [G loss: 0.820981]\n",
      "18900 [D loss: 0.689057, acc.: 51.56%] [G loss: 0.803790]\n",
      "19000 [D loss: 0.658356, acc.: 60.16%] [G loss: 0.790977]\n",
      "19100 [D loss: 0.696257, acc.: 53.12%] [G loss: 0.862133]\n",
      "19200 [D loss: 0.705544, acc.: 49.22%] [G loss: 0.811282]\n",
      "19300 [D loss: 0.673056, acc.: 58.59%] [G loss: 0.818306]\n",
      "19400 [D loss: 0.663807, acc.: 62.50%] [G loss: 0.815569]\n",
      "19500 [D loss: 0.687425, acc.: 54.69%] [G loss: 0.849655]\n",
      "19600 [D loss: 0.698825, acc.: 50.00%] [G loss: 0.803465]\n",
      "19700 [D loss: 0.683795, acc.: 53.91%] [G loss: 0.806896]\n",
      "19800 [D loss: 0.679709, acc.: 53.91%] [G loss: 0.830706]\n",
      "19900 [D loss: 0.703185, acc.: 51.56%] [G loss: 0.818499]\n"
     ]
    }
   ],
   "source": [
    "for epoch in range(epochs):\n",
    "\n",
    "            # ---------------------\n",
    "            #  Train Discriminator\n",
    "            # ---------------------\n",
    "\n",
    "            # Select a random half batch of images\n",
    "    idx = np.random.randint(0, X_train.shape[0], half_batch)\n",
    "    imgs = X_train[idx]\n",
    "\n",
    "    noise = np.random.normal(0, 1, (half_batch, 100))\n",
    "\n",
    "            # Generate a half batch of new images\n",
    "    gen_imgs = generator.predict(noise)\n",
    "\n",
    "            # Train the discriminator\n",
    "    d_loss_real = discriminator.train_on_batch(imgs, np.ones((half_batch, 1)))\n",
    "    d_loss_fake = discriminator.train_on_batch(gen_imgs, np.zeros((half_batch, 1)))\n",
    "    d_loss = 0.5 * np.add(d_loss_real, d_loss_fake)\n",
    "\n",
    "            # ---------------------\n",
    "            #  Train Generator\n",
    "            # ---------------------\n",
    "\n",
    "    noise = np.random.normal(0, 1, (batch_size, 100))\n",
    "\n",
    "            # The generator wants the discriminator to label the generated samples\n",
    "            # as valid (ones)\n",
    "    valid_y = np.array([1] * batch_size)\n",
    "\n",
    "            # Train the generator\n",
    "    g_loss = combined.train_on_batch(noise, valid_y)\n",
    "\n",
    "            # Plot the progress\n",
    "    if epoch%100==0:\n",
    "        print (\"%d [D loss: %f, acc.: %.2f%%] [G loss: %f]\" % (epoch, d_loss[0], 100*d_loss[1], g_loss))\n",
    "\n",
    "            # If at save interval => save generated image samples\n",
    "    if epoch % sample_interval == 0:\n",
    "        save_imgs(epoch)"
   ]
  },
  {
   "cell_type": "code",
   "execution_count": 258,
   "metadata": {},
   "outputs": [],
   "source": [
    "from PIL import Image\n",
    "from matplotlib.image import imread\n",
    "imageA=imread(path_local+\"gan/test_0.png\")"
   ]
  },
  {
   "cell_type": "code",
   "execution_count": 259,
   "metadata": {},
   "outputs": [
    {
     "data": {
      "text/plain": [
       "<matplotlib.image.AxesImage at 0x1ca180e3c8>"
      ]
     },
     "execution_count": 259,
     "metadata": {},
     "output_type": "execute_result"
    },
    {
     "data": {
      "image/png": "[encoded data removed]",
      "text/plain": [
       "<matplotlib.figure.Figure at 0x1c75941588>"
      ]
     },
     "metadata": {},
     "output_type": "display_data"
    }
   ],
   "source": [
    "plt.imshow(imageA)"
   ]
  },
  {
   "cell_type": "code",
   "execution_count": 260,
   "metadata": {},
   "outputs": [],
   "source": [
    "imageB=imread(path_local+\"gan1/test_19800.png\")"
   ]
  },
  {
   "cell_type": "code",
   "execution_count": 261,
   "metadata": {},
   "outputs": [
    {
     "data": {
      "text/plain": [
       "<matplotlib.image.AxesImage at 0x1ca17efcc0>"
      ]
     },
     "execution_count": 261,
     "metadata": {},
     "output_type": "execute_result"
    },
    {
     "data": {
      "image/png": "[encoded data removed]",
      "text/plain": [
       "<matplotlib.figure.Figure at 0x1ca182b6a0>"
      ]
     },
     "metadata": {},
     "output_type": "display_data"
    }
   ],
   "source": [
    "plt.imshow(imageB)"
   ]
  },
  {
   "cell_type": "markdown",
   "metadata": {
    "collapsed": true
   },
   "source": [
    "## Part 3 Build a CNN model using tensorflow"
   ]
  },
  {
   "cell_type": "code",
   "execution_count": 321,
   "metadata": {
    "collapsed": true
   },
   "outputs": [],
   "source": [
    "def main_network(images, training):\n",
    "    x_pretty = pt.wrap(images)\n",
    "    if training:\n",
    "        phase = pt.Phase.train\n",
    "    else:\n",
    "        phase = pt.Phase.infer        \n",
    "    with pt.defaults_scope(activation_fn=tf.nn.relu, phase=phase):\n",
    "        y_pred, loss = x_pretty.\\\n",
    "            conv2d(kernel=5, depth=64, name='layer_conv1', batch_normalize=True).\\\n",
    "            max_pool(kernel=2, stride=2).\\\n",
    "            conv2d(kernel=5, depth=64, name='layer_conv2').\\\n",
    "            max_pool(kernel=2, stride=2).\\\n",
    "            flatten().\\\n",
    "            fully_connected(size=256, name='layer_fc1').\\\n",
    "            fully_connected(size=128, name='layer_fc2').\\\n",
    "            softmax_classifier(num_classes=num_classes, labels=y_true)\n",
    "    return y_pred, loss"
   ]
  },
  {
   "cell_type": "code",
   "execution_count": 322,
   "metadata": {
    "collapsed": true
   },
   "outputs": [],
   "source": [
    "def create_network(training):\n",
    "    with tf.variable_scope('network', reuse=tf.AUTO_REUSE):\n",
    "        images = x\n",
    "        images = pre_process(images=images)\n",
    "        y_pred, loss = main_network(images=images, training=training)\n",
    "\n",
    "    return y_pred, loss"
   ]
  },
  {
   "cell_type": "code",
   "execution_count": 323,
   "metadata": {
    "collapsed": true
   },
   "outputs": [],
   "source": [
    "def pre_process_image(image):\n",
    "    image = tf.random_crop(image, size=[img_size_cropped, img_size_cropped, num_channels])\n",
    "    image = tf.image.random_flip_left_right(image)\n",
    "    image = tf.image.random_hue(image, max_delta=0.05)\n",
    "    image = tf.image.random_contrast(image, lower=0.3, upper=1.0)\n",
    "    image = tf.image.random_brightness(image, max_delta=0.2)\n",
    "    image = tf.image.random_saturation(image, lower=0.0, upper=2.0)\n",
    "    image = tf.minimum(image, 1.0)\n",
    "    image = tf.maximum(image, 0.0)\n",
    "    return image\n",
    "def pre_process(images):\n",
    "    images = tf.map_fn(lambda image: pre_process_image(image), images)\n",
    "    return images\n",
    "def predict_cls(images, labels, cls_true):\n",
    "    num_images = len(images)\n",
    "    cls_pred = np.zeros(shape=num_images, dtype=np.int)\n",
    "    i = 0\n",
    "    while i < num_images:\n",
    "        j = min(i + batch_size, num_images)\n",
    "        feed_dict = {x: images[i:j, :],y_true: labels[i:j, :]}\n",
    "        cls_pred[i:j] = session.run(y_pred_cls, feed_dict=feed_dict)\n",
    "        i = j\n",
    "    correct = (cls_true == cls_pred)    \n",
    "    return correct, cls_pred\n",
    "def get_test_acc(batch_size, images_test):\n",
    "    correct, cls_pred = predict_cls(images = images_test, labels = lab_test, cls_true = cl_test)\n",
    "    acc, num_correct = correct.mean(), correct.sum()\n",
    "    num_images = len(correct)\n",
    "    msg = \"Accuracy on Test-Set: {0:.1%} ({1} / {2})\"\n",
    "    print(msg.format(acc, num_correct, num_images))\n",
    "    return acc"
   ]
  },
  {
   "cell_type": "code",
   "execution_count": 443,
   "metadata": {
    "collapsed": true
   },
   "outputs": [],
   "source": [
    "def get_weights_variable(layer_name):\n",
    "    # Retrieve an existing variable named 'weights' in the scope\n",
    "    # with the given layer_name.\n",
    "    # This is awkward because the TensorFlow function was\n",
    "    # really intended for another purpose.\n",
    "\n",
    "    with tf.variable_scope(\"network/\" + layer_name, reuse=True):\n",
    "        variable = tf.get_variable('weights')\n",
    "\n",
    "    return variable\n",
    "def get_acc(train_batch_size, images_train, labels_train):\n",
    "    start_time = time.time()\n",
    "    RUN=True\n",
    "    l_accuracy=[]\n",
    "    l_step=[]\n",
    "    l_time=[]\n",
    "    batch_acc=0\n",
    "    for i in range(num_iterations):\n",
    "        #w1=get_weights_variable(layer_name='layer_conv1')\n",
    "        #w2=get_weights_variable(layer_name='layer_conv2')\n",
    "        tf.summary.scalar('accuracy', accuracy)\n",
    "        #tf.summary.histogram('weights1',w1)\n",
    "        #tf.summary.histogram('weights2',w2)\n",
    "        x_batch, y_true_batch = helper.random_batch(train_batch_size, images_train, labels_train)\n",
    "        feed_dict_train = {x: x_batch, y_true: y_true_batch}\n",
    "        i_global, _ = session.run([global_step, optimizer], feed_dict=feed_dict_train)#global step\n",
    "        \n",
    "        if (i_global % 100 == 0) or (i == num_iterations - 1):\n",
    "            batch_acc = session.run(accuracy, feed_dict=feed_dict_train)\n",
    "            msg = \"Global Step: {0:>6}, Training Batch Accuracy: {1:>6.1%}\"\n",
    "            print(msg.format(i_global, batch_acc))\n",
    "            s=session.run(summary, feed_dict=feed_dict_train)\n",
    "            summary_writer.add_summary(s,i)\n",
    "               \n",
    "        l_accuracy.append(batch_acc)\n",
    "        l_step.append(i_global)\n",
    "        l_time.append(time.time())\n",
    "        \n",
    "    end_time = time.time()\n",
    "    time_dif = end_time - start_time\n",
    "    print(\"Time usage: \" + str(timedelta(seconds=int(round(time_dif)))))\n",
    "    return l_accuracy, l_step, time_dif, l_time"
   ]
  },
  {
   "cell_type": "markdown",
   "metadata": {},
   "source": [
    "### 1. Train the CNN model and optimize variables during traing."
   ]
  },
  {
   "cell_type": "code",
   "execution_count": 515,
   "metadata": {
    "collapsed": true
   },
   "outputs": [],
   "source": [
    "path_board='/Users/lisha/Desktop/tensor_board/'"
   ]
  },
  {
   "cell_type": "code",
   "execution_count": 516,
   "metadata": {
    "collapsed": true
   },
   "outputs": [],
   "source": [
    "train_batch_size = 64\n",
    "num_iterations=10000"
   ]
  },
  {
   "cell_type": "code",
   "execution_count": 517,
   "metadata": {
    "collapsed": true
   },
   "outputs": [],
   "source": [
    "tf.reset_default_graph()"
   ]
  },
  {
   "cell_type": "code",
   "execution_count": 518,
   "metadata": {},
   "outputs": [],
   "source": [
    "x = tf.placeholder(tf.float32, shape=[None, img_size, img_size, num_channels], name='x')\n",
    "y_true = tf.placeholder(tf.float32, shape=[None, num_classes], name='y_true')\n",
    "y_true_cls = tf.argmax(y_true, dimension=1)"
   ]
  },
  {
   "cell_type": "code",
   "execution_count": 519,
   "metadata": {
    "collapsed": true
   },
   "outputs": [],
   "source": [
    "global_step = tf.Variable(initial_value=0, name='global_step')\n",
    "_, loss = create_network(training=True)\n",
    "with tf.name_scope('train'):\n",
    "    optimizer = tf.train.AdamOptimizer(learning_rate=1e-4).minimize(loss, global_step=global_step)\n",
    "y_pred, _ = create_network(training=False)\n",
    "y_pred_cls = tf.argmax(y_pred, dimension=1)\n",
    "with tf.name_scope('accuracy'):\n",
    "    correct_prediction = tf.equal(y_pred_cls, y_true_cls)\n",
    "    accuracy = tf.reduce_mean(tf.cast(correct_prediction, tf.float32))\n",
    "session = tf.Session()\n"
   ]
  },
  {
   "cell_type": "code",
   "execution_count": 520,
   "metadata": {},
   "outputs": [],
   "source": [
    "w = tf.Variable(tf.truncated_normal([5,5,3,64], stddev=0.1),name=\"w\")\n",
    "b = tf.Variable(tf.constant(0.1,shape=[64]), name=\"b\")"
   ]
  },
  {
   "cell_type": "code",
   "execution_count": 521,
   "metadata": {
    "collapsed": true
   },
   "outputs": [],
   "source": [
    "init_op = tf.global_variables_initializer()\n",
    "session.run(init_op)"
   ]
  },
  {
   "cell_type": "code",
   "execution_count": 522,
   "metadata": {
    "collapsed": true
   },
   "outputs": [],
   "source": [
    "summary = tf.summary.merge_all()\n",
    "summary_writer = tf.summary.FileWriter(path_board+'original_1')\n",
    "summary_writer.add_graph(session.graph)"
   ]
  },
  {
   "cell_type": "code",
   "execution_count": 523,
   "metadata": {
    "scrolled": true
   },
   "outputs": [
    {
     "name": "stdout",
     "output_type": "stream",
     "text": [
      "Global Step:    100, Training Batch Accuracy:  67.2%\n",
      "Global Step:    200, Training Batch Accuracy:  65.6%\n",
      "Global Step:    300, Training Batch Accuracy:  57.8%\n",
      "Global Step:    400, Training Batch Accuracy:  59.4%\n",
      "Global Step:    500, Training Batch Accuracy:  62.5%\n",
      "Global Step:    600, Training Batch Accuracy:  62.5%\n",
      "Global Step:    700, Training Batch Accuracy:  53.1%\n",
      "Global Step:    800, Training Batch Accuracy:  45.3%\n",
      "Global Step:    900, Training Batch Accuracy:  64.1%\n",
      "Global Step:   1000, Training Batch Accuracy:  53.1%\n",
      "Global Step:   1100, Training Batch Accuracy:  64.1%\n",
      "Global Step:   1200, Training Batch Accuracy:  68.8%\n",
      "Global Step:   1300, Training Batch Accuracy:  53.1%\n",
      "Global Step:   1400, Training Batch Accuracy:  71.9%\n",
      "Global Step:   1500, Training Batch Accuracy:  48.4%\n",
      "Global Step:   1600, Training Batch Accuracy:  65.6%\n",
      "Global Step:   1700, Training Batch Accuracy:  57.8%\n",
      "Global Step:   1800, Training Batch Accuracy:  68.8%\n",
      "Global Step:   1900, Training Batch Accuracy:  59.4%\n",
      "Global Step:   2000, Training Batch Accuracy:  60.9%\n",
      "Global Step:   2100, Training Batch Accuracy:  64.1%\n",
      "Global Step:   2200, Training Batch Accuracy:  53.1%\n",
      "Global Step:   2300, Training Batch Accuracy:  56.2%\n",
      "Global Step:   2400, Training Batch Accuracy:  70.3%\n",
      "Global Step:   2500, Training Batch Accuracy:  78.1%\n",
      "Global Step:   2600, Training Batch Accuracy:  62.5%\n",
      "Global Step:   2700, Training Batch Accuracy:  53.1%\n",
      "Global Step:   2800, Training Batch Accuracy:  60.9%\n",
      "Global Step:   2900, Training Batch Accuracy:  62.5%\n",
      "Global Step:   3000, Training Batch Accuracy:  70.3%\n",
      "Global Step:   3100, Training Batch Accuracy:  64.1%\n",
      "Global Step:   3200, Training Batch Accuracy:  73.4%\n",
      "Global Step:   3300, Training Batch Accuracy:  57.8%\n",
      "Global Step:   3400, Training Batch Accuracy:  68.8%\n",
      "Global Step:   3500, Training Batch Accuracy:  60.9%\n",
      "Global Step:   3600, Training Batch Accuracy:  64.1%\n",
      "Global Step:   3700, Training Batch Accuracy:  76.6%\n",
      "Global Step:   3800, Training Batch Accuracy:  67.2%\n",
      "Global Step:   3900, Training Batch Accuracy:  68.8%\n",
      "Global Step:   4000, Training Batch Accuracy:  68.8%\n",
      "Global Step:   4100, Training Batch Accuracy:  79.7%\n",
      "Global Step:   4200, Training Batch Accuracy:  62.5%\n",
      "Global Step:   4300, Training Batch Accuracy:  59.4%\n",
      "Global Step:   4400, Training Batch Accuracy:  75.0%\n",
      "Global Step:   4500, Training Batch Accuracy:  70.3%\n",
      "Global Step:   4600, Training Batch Accuracy:  71.9%\n",
      "Global Step:   4700, Training Batch Accuracy:  67.2%\n",
      "Global Step:   4800, Training Batch Accuracy:  67.2%\n",
      "Global Step:   4900, Training Batch Accuracy:  78.1%\n",
      "Global Step:   5000, Training Batch Accuracy:  67.2%\n",
      "Global Step:   5100, Training Batch Accuracy:  68.8%\n",
      "Global Step:   5200, Training Batch Accuracy:  75.0%\n",
      "Global Step:   5300, Training Batch Accuracy:  71.9%\n",
      "Global Step:   5400, Training Batch Accuracy:  81.2%\n",
      "Global Step:   5500, Training Batch Accuracy:  64.1%\n",
      "Global Step:   5600, Training Batch Accuracy:  62.5%\n",
      "Global Step:   5700, Training Batch Accuracy:  78.1%\n",
      "Global Step:   5800, Training Batch Accuracy:  68.8%\n",
      "Global Step:   5900, Training Batch Accuracy:  75.0%\n",
      "Global Step:   6000, Training Batch Accuracy:  67.2%\n",
      "Global Step:   6100, Training Batch Accuracy:  85.9%\n",
      "Global Step:   6200, Training Batch Accuracy:  79.7%\n",
      "Global Step:   6300, Training Batch Accuracy:  75.0%\n",
      "Global Step:   6400, Training Batch Accuracy:  73.4%\n",
      "Global Step:   6500, Training Batch Accuracy:  79.7%\n",
      "Global Step:   6600, Training Batch Accuracy:  81.2%\n",
      "Global Step:   6700, Training Batch Accuracy:  79.7%\n",
      "Global Step:   6800, Training Batch Accuracy:  62.5%\n",
      "Global Step:   6900, Training Batch Accuracy:  68.8%\n",
      "Global Step:   7000, Training Batch Accuracy:  78.1%\n",
      "Global Step:   7100, Training Batch Accuracy:  78.1%\n",
      "Global Step:   7200, Training Batch Accuracy:  75.0%\n",
      "Global Step:   7300, Training Batch Accuracy:  78.1%\n",
      "Global Step:   7400, Training Batch Accuracy:  76.6%\n",
      "Global Step:   7500, Training Batch Accuracy:  84.4%\n",
      "Global Step:   7600, Training Batch Accuracy:  65.6%\n",
      "Global Step:   7700, Training Batch Accuracy:  75.0%\n",
      "Global Step:   7800, Training Batch Accuracy:  70.3%\n",
      "Global Step:   7900, Training Batch Accuracy:  73.4%\n",
      "Global Step:   8000, Training Batch Accuracy:  75.0%\n",
      "Global Step:   8100, Training Batch Accuracy:  70.3%\n",
      "Global Step:   8200, Training Batch Accuracy:  79.7%\n",
      "Global Step:   8300, Training Batch Accuracy:  79.7%\n",
      "Global Step:   8400, Training Batch Accuracy:  81.2%\n",
      "Global Step:   8500, Training Batch Accuracy:  73.4%\n",
      "Global Step:   8600, Training Batch Accuracy:  76.6%\n",
      "Global Step:   8700, Training Batch Accuracy:  82.8%\n",
      "Global Step:   8800, Training Batch Accuracy:  87.5%\n",
      "Global Step:   8900, Training Batch Accuracy:  76.6%\n",
      "Global Step:   9000, Training Batch Accuracy:  93.8%\n",
      "Global Step:   9100, Training Batch Accuracy:  73.4%\n",
      "Global Step:   9200, Training Batch Accuracy:  82.8%\n",
      "Global Step:   9300, Training Batch Accuracy:  87.5%\n",
      "Global Step:   9400, Training Batch Accuracy:  87.5%\n",
      "Global Step:   9500, Training Batch Accuracy:  85.9%\n",
      "Global Step:   9600, Training Batch Accuracy:  84.4%\n",
      "Global Step:   9700, Training Batch Accuracy:  84.4%\n",
      "Global Step:   9800, Training Batch Accuracy:  84.4%\n",
      "Global Step:   9900, Training Batch Accuracy:  78.1%\n",
      "Global Step:  10000, Training Batch Accuracy:  84.4%\n",
      "Time usage: 4:22:49\n"
     ]
    }
   ],
   "source": [
    "l_acc_1, l_step_1, t_diff_1, l_time_1=get_acc(train_batch_size=train_batch_size, images_train=images_train, labels_train=labels_train)"
   ]
  },
  {
   "cell_type": "markdown",
   "metadata": {},
   "source": [
    "### 2. Get test accuracy"
   ]
  },
  {
   "cell_type": "code",
   "execution_count": 525,
   "metadata": {},
   "outputs": [
    {
     "name": "stdout",
     "output_type": "stream",
     "text": [
      "Accuracy on Test-Set: 54.6% (1092 / 2000)\n"
     ]
    }
   ],
   "source": [
    "batch_size = 256 \n",
    "t1=get_test_acc(batch_size=batch_size, images_test=img_test)"
   ]
  },
  {
   "cell_type": "markdown",
   "metadata": {},
   "source": [
    "### 3. Get accuracy of distorted images"
   ]
  },
  {
   "cell_type": "code",
   "execution_count": 532,
   "metadata": {},
   "outputs": [
    {
     "name": "stdout",
     "output_type": "stream",
     "text": [
      "Accuracy on Test-Set: 49.6% (993 / 2000)\n"
     ]
    }
   ],
   "source": [
    "batch_size = 256 \n",
    "t_t=get_test_acc(batch_size=batch_size,images_test=images_test_distorted)"
   ]
  },
  {
   "cell_type": "code",
   "execution_count": null,
   "metadata": {
    "collapsed": true
   },
   "outputs": [],
   "source": []
  },
  {
   "cell_type": "markdown",
   "metadata": {},
   "source": [
    "## Part 4 Use SRGAN pre-processed dataset to train the CNN model"
   ]
  },
  {
   "cell_type": "markdown",
   "metadata": {},
   "source": [
    "### Not implemented yet. Just a few steps away."
   ]
  },
  {
   "cell_type": "code",
   "execution_count": null,
   "metadata": {
    "collapsed": true
   },
   "outputs": [],
   "source": []
  },
  {
   "cell_type": "code",
   "execution_count": null,
   "metadata": {},
   "outputs": [],
   "source": []
  },
  {
   "cell_type": "code",
   "execution_count": null,
   "metadata": {},
   "outputs": [],
   "source": []
  },
  {
   "cell_type": "code",
   "execution_count": null,
   "metadata": {},
   "outputs": [],
   "source": []
  },
  {
   "cell_type": "code",
   "execution_count": null,
   "metadata": {},
   "outputs": [],
   "source": []
  },
  {
   "cell_type": "code",
   "execution_count": null,
   "metadata": {},
   "outputs": [],
   "source": []
  },
  {
   "cell_type": "code",
   "execution_count": 474,
   "metadata": {
    "collapsed": true
   },
   "outputs": [],
   "source": [
    "def get_layer_output(layer_name):\n",
    "    tensor_name = \"network/\" + layer_name + \"/Relu:0\"\n",
    "    tensor = tf.get_default_graph().get_tensor_by_name(tensor_name)\n",
    "\n",
    "    return tensor"
   ]
  },
  {
   "cell_type": "code",
   "execution_count": 475,
   "metadata": {},
   "outputs": [],
   "source": [
    "output_conv1 = get_layer_output(layer_name='layer_conv1')\n",
    "output_conv2 = get_layer_output(layer_name='layer_conv2')"
   ]
  },
  {
   "cell_type": "code",
   "execution_count": null,
   "metadata": {
    "collapsed": true
   },
   "outputs": [],
   "source": []
  }
 ],
 "metadata": {
  "kernelspec": {
   "display_name": "Python 3",
   "language": "python",
   "name": "python3"
  },
  "language_info": {
   "codemirror_mode": {
    "name": "ipython",
    "version": 3
   },
   "file_extension": ".py",
   "mimetype": "text/x-python",
   "name": "python",
   "nbconvert_exporter": "python",
   "pygments_lexer": "ipython3",
   "version": "3.6.4"
  }
 },
 "nbformat": 4,
 "nbformat_minor": 2
}
